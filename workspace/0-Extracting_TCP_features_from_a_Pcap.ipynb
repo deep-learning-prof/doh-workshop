{
 "cells": [
  {
   "cell_type": "markdown",
   "id": "bd9062f3",
   "metadata": {},
   "source": [
    "# Extracting features from raw network data\n",
    "\n",
    "Welecome to this notebook! We will first explore how to extract features that we can use in our machine\n",
    "learning models from raw network data. Raw network data is usually stored in packet capture (PCAP) files.\n",
    "PCACP files store every byte of the packets which allows us to replay the network traffic at a later\n",
    "time. Unfortunately, machine learning models are unable to process raw bytes. Instead, machine learning\n",
    "models expect a numerical representation. After all, machine learning models are defined by a set of\n",
    "mathematical operations. \n",
    "\n",
    "Not all the information in a PCAP will be relevant for our machine learning. A PCAP file can have\n",
    "millions of packets, many of which may contain little or no relevant information, such as\n",
    "acknowledgements, packets to keep a connection alive, etc. Therefore, we focus on \"packet flows\" (i.e.,\n",
    "TCP connections) instead of individual packets. \n",
    "\n",
    "We know that each DNS-over-HTTPS request will be sent over a TLS connection contained within a TCP connection. By extracting features about the TCP connection instead of individual packets we can significantly reduce the amount of data that we need to process with our machine learning models. \n",
    "\n",
    "The set of example features that we choose for this notebook are as follows:\n",
    "\n",
    "|Feature number | Feature |\n",
    "|:---:|:---:|\n",
    "|1|Number of sent bytes|\n",
    "|2|Number of received bytes|\n",
    "|3|Number of sent packets|\n",
    "|4|Number of received packets|\n",
    "|5|Ratio of received to sent bytes|\n",
    "|6|Ratio of received to sent packets|\n",
    "|7|Length of connection in seconds|\n",
    "|8|Average received packet size|\n",
    "|9|Median received packet size|\n",
    "|10|Variance of received packet size|\n",
    "|11|Average sent packet size|\n",
    "|12|Median sent packet size|\n",
    "|13|Variance of sent packet size|\n",
    "|14|Minimum delay between received packets|\n",
    "|15|Average delay between received packets|\n",
    "|16|Maximum delay between received packets|\n",
    "\n",
    "We could also include IP addresses, port numbers, etc. However, we choose not to include them because it\n",
    "is fairly easy to filter DoH traffic from the rest of the network traffic based on the IP address of the\n",
    "server and the port number. That is, any TCP connection to port 443 on a known public DoH server can be\n",
    "reasonably assumed to be a DoH connection. "
   ]
  },
  {
   "cell_type": "markdown",
   "id": "2c0e8cb7",
   "metadata": {},
   "source": [
    "## The PCAP file\n",
    "\n",
    "There are multiple ways of obtaining a PCAP file. For illustration purposes, we will be using a PCAP provided by [MontazerShatoori et al.](https://www.unb.ca/cic/datasets/dohbrw-2020.html)\n",
    "\n",
    "This PCAP contains DoH traffic generated using a Chrome Browser using the public AdGuard DoH public server. An automated script used Chrome to open a list of websites and recorded the network traffic into a PCAP file.  The PCAP also includes non-DoH traffic to servers using port 443. \n",
    "\n",
    "In practice, the PCAP file can be obtained from firewalls. It is also possible to configure your firewall to calculate the features directly (beyond the scope of this notebook). "
   ]
  },
  {
   "cell_type": "markdown",
   "id": "45436675",
   "metadata": {},
   "source": [
    "## Finding the IP address of the server\n",
    "\n",
    "Open the PCAP file in Wireshark and find the IP address of the Adguard server. We will need it to filter out the non-DoH traffic. \n",
    "\n",
    "The file is stored in  ```pcaps/dump-small.pcap```.\n",
    "\n",
    "### How should we track down the Adguard IP address?\n",
    "### Can you find additional DoH servers?\n"
   ]
  },
  {
   "cell_type": "markdown",
   "id": "4b4757ce",
   "metadata": {},
   "source": [
    "## Filtering out non-DoH traffic\n",
    "Our objective is to find malicious DoH traffic. Therefore, we can ignore the rest of the non-DoH traffic. To this end, we can create a new PCAP file with only DoH traffic. We know that there is only one DoH server being used. We also know its IP address. \n",
    "\n",
    "Use the filter ```ip.addr=[DoH Server IP address]``` to only show the DoH traffic from that server in Wireshark. \n",
    "\n",
    "Save the DoH traffic to a new file called ```pcaps/DoH-traffic.pcap```\n",
    "\n",
    "To save the file we can use ```File>Export Specified Packets...```. Make sure you select ```Displayed```."
   ]
  },
  {
   "cell_type": "markdown",
   "id": "56083a9d",
   "metadata": {},
   "source": [
    "## Extracting TCP Connection Features from a PCAP file\n",
    "\n",
    "We use the NFStream library in Python to identify the TCP connections and calculate the features. We save the features into a CSV file.  "
   ]
  },
  {
   "cell_type": "code",
   "execution_count": null,
   "id": "58051004",
   "metadata": {},
   "outputs": [],
   "source": [
    "import csv\n",
    "import pandas as pd\n",
    "import numpy as np\n",
    "\n",
    "from nfstream import NFStreamer\n",
    "\n",
    "# Initialize the NFStreamer object\n",
    "my_streamer = NFStreamer(\n",
    "            source='/home/dsu/doh_workshop/pcaps/Chrome_Adguard_Traffic/DoH-traffic.pcap', # the name of your pcap file\n",
    "            statistical_analysis=True, # NFStream will generate the TCP connection stats\n",
    "            active_timeout=25200, #The maximum time allowed for the TCP connection. Longer connectinos are ignored\n",
    "        )\n",
    "\n",
    "# Save the results to a CSV file\n",
    "features_df = my_streamer.to_pandas(columns_to_anonymize=[])\n",
    "features_df"
   ]
  },
  {
   "cell_type": "markdown",
   "id": "75fc0160",
   "metadata": {},
   "source": [
    "## Lets filter out the uneeded columns\n",
    "You can see that NFStreamer actually calculates many more statisitics than we need. It also includes additional columns that do not help us detect the malicious DoH traffic. For example, the destination port is 443 for all traffic. "
   ]
  },
  {
   "cell_type": "code",
   "execution_count": null,
   "id": "99baf7bf",
   "metadata": {},
   "outputs": [],
   "source": [
    "# Show the columns. Select ans copy the ones you want to keep. \n",
    "features_df.columns"
   ]
  },
  {
   "cell_type": "code",
   "execution_count": null,
   "id": "36c01a57",
   "metadata": {},
   "outputs": [],
   "source": [
    "# Add the columns you selected to the cols list\n",
    "cols = [] # paste your columns between the square brackets\n",
    "\n",
    "features_df = features_df[cols]\n",
    "features_df"
   ]
  },
  {
   "cell_type": "markdown",
   "id": "2d1ada74",
   "metadata": {},
   "source": [
    "## Don't forget to save the dataframe to a CSV file. "
   ]
  },
  {
   "cell_type": "code",
   "execution_count": null,
   "id": "dd0e4c03",
   "metadata": {},
   "outputs": [],
   "source": [
    "features_df.to_csv('sample-features.csv', index=False)"
   ]
  },
  {
   "cell_type": "markdown",
   "id": "76cd971d",
   "metadata": {},
   "source": [
    "## Final note\n",
    "\n",
    "PCAP files are often very large. Filtering the PCAP and generating the statistics is better done directly through code. \n",
    "\n",
    "In the rest of this learning objective, we will use CSV files that have already been processed from more than 100GBs of network traffic. \n",
    "\n",
    "The datasets in the workshop have been stripped from IP addresses. However, in practice, you will need to keep them so that you can track down which computers are generating the malicious traffic. "
   ]
  }
 ],
 "metadata": {
  "kernelspec": {
   "display_name": "Python 3 (ipykernel)",
   "language": "python",
   "name": "python3"
  },
  "language_info": {
   "codemirror_mode": {
    "name": "ipython",
    "version": 3
   },
   "file_extension": ".py",
   "mimetype": "text/x-python",
   "name": "python",
   "nbconvert_exporter": "python",
   "pygments_lexer": "ipython3",
   "version": "3.11.4"
  }
 },
 "nbformat": 4,
 "nbformat_minor": 5
}
